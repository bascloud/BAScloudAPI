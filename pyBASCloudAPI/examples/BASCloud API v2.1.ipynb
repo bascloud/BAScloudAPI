{
 "cells": [
  {
   "cell_type": "code",
   "execution_count": 1,
   "metadata": {},
   "outputs": [],
   "source": [
    "import pyBASCloudAPI as api\n",
    "import datetime\n",
    "import traceback"
   ]
  },
  {
   "cell_type": "code",
   "execution_count": 2,
   "metadata": {},
   "outputs": [],
   "source": [
    "# Init API library\n",
    "\n",
    "# For accessing the BASCloud API, a API endpoint URL needs to be defined\n",
    "BCAPI = api.EntityContext(\"server_URL\")"
   ]
  },
  {
   "cell_type": "code",
   "execution_count": 8,
   "metadata": {},
   "outputs": [],
   "source": [
    "# Login with user\n",
    "try:\n",
    "    BCAPI.authenticateWithUserLogin(email=\"user_email\", password=\"user_password\")\n",
    "except:\n",
    "    print(\"Request failed.\")\n",
    "    traceback.print_exc()"
   ]
  },
  {
   "cell_type": "code",
   "execution_count": 11,
   "metadata": {},
   "outputs": [
    {
     "name": "stdout",
     "output_type": "stream",
     "text": [
      "Request failed.\n"
     ]
    },
    {
     "name": "stderr",
     "output_type": "stream",
     "text": [
      "Traceback (most recent call last):\n",
      "  File \"<ipython-input-11-4c363373ba16>\", line 9, in <module>\n",
      "    new_reading = BCAPI.createReading(tenantUUID=tenantUUID, deviceUUID=deviceUUID, value=value, timestamp=currentDateTime);#\n",
      "ValueError: Invalid argument. UUID incorrect format or length. Provided UUID: \"\"\n"
     ]
    }
   ],
   "source": [
    "# Create a new Reading\n",
    "\n",
    "currentDateTime = int(datetime.datetime.now().timestamp())\n",
    "tenantUUID = \"\"\n",
    "deviceUUID = \"\"\n",
    "value = 1234.5\n",
    "\n",
    "new_reading = BCAPI.createReading(tenantUUID=tenantUUID, deviceUUID=deviceUUID, value=value, timestamp=currentDateTime);\n",
    "\n",
    "print(\"\\tReading UUID: \",  new_reading.uuid)\n",
    "print(\"\\tReading Value: \",  new_reading.value)\n",
    "print(\"\\tReading timestamp: \",  datetime.datetime.fromtimestamp(new_reading.timestamp))\n",
    "print(\"\\tReading created at: \",  datetime.datetime.fromtimestamp(new_reading.createdAt))\n",
    "print(\"\\tReading updated at: \",  datetime.datetime.fromtimestamp(new_reading.updatedAt))"
   ]
  },
  {
   "cell_type": "code",
   "execution_count": null,
   "metadata": {},
   "outputs": [],
   "source": [
    "# Create a Device\n",
    "\n",
    "tenantUUID = \"\"\n",
    "connectorUUID = \"\"\n",
    "aksID = \"\"\n",
    "description = \"\"\n",
    "unit = \"\"\n",
    "\n",
    "\n",
    "new_device = BCAPI.createDevice(tenantUUID, connectorUUID, aksID, description, unit)\n",
    "\n",
    "print(\"\\tDevice UUID: \", new_device.uuid)\n",
    "print(\"\\tDevice AKS ID: \", new_device.aksID)\n",
    "print(\"\\tDevice Description: \", new_device.description)\n",
    "print(\"\\tDevice Unit: \", new_device.unit)\n",
    "print(\"\\tDevice created at: \", datetime.datetime.fromtimestamp(new_device.createdAt))\n",
    "print(\"\\tDevice updated at: \", datetime.datetime.fromtimestamp(new_device.updatedAt))"
   ]
  },
  {
   "cell_type": "code",
   "execution_count": null,
   "metadata": {},
   "outputs": [],
   "source": [
    "# Create a Connector\n",
    "\n",
    "tenantUUID = \"\"\n",
    "propertyUUID = \"\"\n",
    "name = \"\"\n",
    "\n",
    "\n",
    "new_connector = BCAPI.createConnector(tenantUUID, propertyUUID, name)\n",
    "\n",
    "print(\"\\tConnector UUID: \", new_connector.uuid)\n",
    "print(\"\\tConnector Name: \", new_connector.name)\n",
    "print(\"\\tConnector created at: \", datetime.datetime.fromtimestamp(new_connector.createdAt))\n",
    "print(\"\\tConnector updated at: \", datetime.datetime.fromtimestamp(new_connector.updatedAt))"
   ]
  }
 ],
 "metadata": {
  "kernelspec": {
   "display_name": "Python 3.8.5 64-bit ('.venv': venv)",
   "name": "python385jvsc74a57bd05b3f4b543e8b432438cc2d1d720eac780bbbea654cfefa785342a162d03f3015"
  },
  "language_info": {
   "codemirror_mode": {
    "name": "ipython",
    "version": 3
   },
   "file_extension": ".py",
   "mimetype": "text/x-python",
   "name": "python",
   "nbconvert_exporter": "python",
   "pygments_lexer": "ipython3",
   "version": "3.8.5"
  },
  "orig_nbformat": 3
 },
 "nbformat": 4,
 "nbformat_minor": 5
}